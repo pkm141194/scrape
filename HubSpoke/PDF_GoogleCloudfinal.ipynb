{
 "cells": [
  {
   "cell_type": "code",
   "execution_count": 1,
   "metadata": {
    "scrolled": true
   },
   "outputs": [],
   "source": [
    "import pandas as pd\n",
    "import camelot\n",
    "from os import mkdir, chdir, listdir, remove\n",
    "import pandas\n",
    "from colors import names\n",
    "import os"
   ]
  },
  {
   "cell_type": "code",
   "execution_count": 2,
   "metadata": {
    "scrolled": false
   },
   "outputs": [],
   "source": [
    "from google.cloud import translate_v2\n",
    "os.environ['GOOGLE_APPLICATION_CREDENTIALS'] = r\"E:\\cloud\\absolute-cubist-316404-9ab46178c451.json\"\n",
    "\n",
    "def translate(text):\n",
    "    try:\n",
    "        translator = translate_v2.Client()\n",
    "        ret = translator.translate(text)['translatedText']\n",
    "    except:\n",
    "        ret = text\n",
    "    return ret"
   ]
  },
  {
   "cell_type": "markdown",
   "metadata": {},
   "source": [
    "## Part 1"
   ]
  },
  {
   "cell_type": "code",
   "execution_count": 3,
   "metadata": {
    "scrolled": true
   },
   "outputs": [],
   "source": [
    "file = camelot.read_pdf(\"quotation.pdf\")"
   ]
  },
  {
   "cell_type": "code",
   "execution_count": 4,
   "metadata": {
    "scrolled": true
   },
   "outputs": [],
   "source": [
    "try:\n",
    "    mkdir('csv')\n",
    "    chdir('csv')\n",
    "except:\n",
    "    chdir('csv')"
   ]
  },
  {
   "cell_type": "code",
   "execution_count": 5,
   "metadata": {
    "scrolled": true
   },
   "outputs": [],
   "source": [
    "for tdf in range(len(file)):\n",
    "    partdf = file[tdf].df\n",
    "    \n",
    "    exclude = ['Apple']\n",
    "    \n",
    "    lst = ['SAMSUNG' , 'HTC', 'ASUS', 'Xero', 'Alcatel', 'CAT', 'Sony Xperia', 'SAMSUNG TABLET',\n",
    "       'Huawei', '小米產品', 'Black shark', 'OPPO', 'JBL', 'Apple', 'One Plus', 'Xiaomi (小米)',\n",
    "       'Hongmi (紅米)', 'Poco', 'Nokia', 'Google']\n",
    "    \n",
    "    new_lst =[]\n",
    "    \n",
    "    for index, row in partdf.iterrows():\n",
    "        for i in range(len(lst)):\n",
    "            if lst[i] in row[1] and lst[i] not in exclude:\n",
    "                new_lst.append(index)\n",
    "    mylist = list(dict.fromkeys(new_lst))\n",
    "    mylist.append(len(partdf))\n",
    "\n",
    "\n",
    "    flist=[]\n",
    "    for k in range(len(mylist)-1):\n",
    "        flist.append(list(range(mylist[k], mylist[k+1])))\n",
    "\n",
    "        \n",
    "    for d in flist:\n",
    "        dff=pd.DataFrame()\n",
    "        slist = []\n",
    "        for g in d:\n",
    "            q= list(partdf.iloc[g])\n",
    "            slist.append(q)\n",
    "        dff=pd.DataFrame(slist)\n",
    "        \n",
    "        \n",
    "        nan_value = float(\"NaN\")\n",
    "        dff.replace(\"\", nan_value, inplace=True)\n",
    "        dff.dropna(how='all', inplace=True)\n",
    "        dff.replace('\\n','', regex=True, inplace=True)\n",
    "        dff.replace('\\s\\s+','', regex=True, inplace=True)\n",
    "        \n",
    "        dff.to_csv(str(dff.loc[0,1]) + '.csv', index=False, header=False)"
   ]
  },
  {
   "cell_type": "markdown",
   "metadata": {},
   "source": [
    "## Part 2"
   ]
  },
  {
   "cell_type": "code",
   "execution_count": null,
   "metadata": {
    "scrolled": false
   },
   "outputs": [],
   "source": [
    "try:    \n",
    "    # fieldnames = ['Brand', 'Model', 'Description', 'Comments', 'Colors', 'Cost']\n",
    "    \n",
    "    fieldnames = ['Brand', 'Model', 'Cost', 'Remark']\n",
    "    \n",
    "    final_df = pd.DataFrame(columns=fieldnames)\n",
    "    \n",
    "    \n",
    "    for file in listdir():\n",
    "        print(f'Reading file {file}..')\n",
    "        \n",
    "        df = pandas.read_csv(file)\n",
    "        cols = df.columns.values[1:]\n",
    "        brand = cols[0]\n",
    "        count = 0\n",
    "\n",
    "        for index, row in df.iterrows():\n",
    "            print('.', end='')\n",
    "            count += 1\n",
    "            \n",
    "            vals = row.values\n",
    "\n",
    "            try:\n",
    "                if str(vals[-2]) == 'nan':\n",
    "                    price = vals[-1]\n",
    "                else:\n",
    "                    price = vals[-2]\n",
    "            except:\n",
    "                price = ''\n",
    "\n",
    "            vals = row.values\n",
    "\n",
    "            trans_data = [translate(brand), vals[0], translate(vals[1]), price]\n",
    "            \n",
    "            brand = trans_data[0]\n",
    "            model_no = trans_data[1]\n",
    "            sep_data = trans_data[2]\n",
    "            \n",
    "            price = trans_data[3]\n",
    "            \n",
    "            try:\n",
    "                data_list = str(sep_data).lower().replace(',', '').split(' ')\n",
    "            except Exception as e:\n",
    "                print(f'{e} of {brand} in line number {count}')\n",
    "                continue\n",
    "            \n",
    "            cn = []\n",
    "            for name, code in names:\n",
    "                cn.append(name.lower())\n",
    "            \n",
    "            colors = []\n",
    "            model = ''\n",
    "            desc = []\n",
    "            \n",
    "            for data_ in data_list:\n",
    "                if data_ in cn:\n",
    "                    colors.append(data_)\n",
    "#                 elif 'gb' in data_:\n",
    "#                     model = data_\n",
    "                else:\n",
    "                    desc.append(data_)\n",
    "            check_gb = desc[0]\n",
    "            if 'gb' in check_gb:\n",
    "                desc = desc[1:]\n",
    "                desc.append(check_gb)\n",
    "\n",
    "\n",
    "            description = ' '.join(desc)\n",
    "            color = ' ,'.join(colors)\n",
    "            try:\n",
    "                d = color.split(' ,')\n",
    "                d1 = d[0]\n",
    "                for cl in d:\n",
    "                    formated_data = [brand, description, price, cl]\n",
    "                    final_df = final_df.append(pd.DataFrame([formated_data], columns=fieldnames), ignore_index=True)\n",
    "            except:\n",
    "                formated_data = [brand, model, description, model, color, price]\n",
    "                final_df = final_df.append(pd.DataFrame([formated_data], columns=fieldnames), ignore_index=True)\n",
    "\n",
    "        print(f'#{count} rows processed')\n",
    "        #remove(file)\n",
    "        \n",
    "    final_df.to_csv('../FinalTestData.csv', index=False)\n",
    "except Exception as e:\n",
    "    print('\\nError..\\n')\n",
    "    print(e, end='\\n\\n')"
   ]
  },
  {
   "cell_type": "code",
   "execution_count": null,
   "metadata": {},
   "outputs": [],
   "source": [
    "print('Completed...')"
   ]
  },
  {
   "cell_type": "markdown",
   "metadata": {},
   "source": [
    "# For Testing Only"
   ]
  },
  {
   "cell_type": "code",
   "execution_count": null,
   "metadata": {},
   "outputs": [],
   "source": [
    "import pandas as pd"
   ]
  },
  {
   "cell_type": "code",
   "execution_count": null,
   "metadata": {},
   "outputs": [],
   "source": [
    "cols = ['1', '2', '3', '4']"
   ]
  },
  {
   "cell_type": "code",
   "execution_count": null,
   "metadata": {},
   "outputs": [],
   "source": [
    "row = [[1,2,3,4]]\n",
    "row2 = [[11,22,33,44]]\n",
    "row3 = [[111,222,333,444]]\n",
    "row4 = [[1111,2222,3333,4444]]"
   ]
  },
  {
   "cell_type": "code",
   "execution_count": null,
   "metadata": {},
   "outputs": [],
   "source": [
    "df = pd.DataFrame(columns=cols)"
   ]
  },
  {
   "cell_type": "code",
   "execution_count": null,
   "metadata": {},
   "outputs": [],
   "source": [
    "df"
   ]
  },
  {
   "cell_type": "code",
   "execution_count": null,
   "metadata": {},
   "outputs": [],
   "source": [
    "df = df.append(pd.DataFrame(row, columns=cols), ignore_index=True)"
   ]
  },
  {
   "cell_type": "code",
   "execution_count": null,
   "metadata": {},
   "outputs": [],
   "source": [
    "df = df.append(pd.DataFrame(row2, columns=cols), ignore_index=True)"
   ]
  },
  {
   "cell_type": "code",
   "execution_count": null,
   "metadata": {},
   "outputs": [],
   "source": [
    "df = df.append(pd.DataFrame(row3, columns=cols), ignore_index=True)"
   ]
  },
  {
   "cell_type": "code",
   "execution_count": null,
   "metadata": {},
   "outputs": [],
   "source": [
    "df = df.append(pd.DataFrame(row4, columns=cols), ignore_index=True)"
   ]
  },
  {
   "cell_type": "code",
   "execution_count": null,
   "metadata": {},
   "outputs": [],
   "source": [
    "df"
   ]
  },
  {
   "cell_type": "code",
   "execution_count": null,
   "metadata": {},
   "outputs": [],
   "source": [
    "df.to_csv('TestData.csv', index=False, header=False)"
   ]
  },
  {
   "cell_type": "code",
   "execution_count": null,
   "metadata": {},
   "outputs": [],
   "source": [
    "print('Hello')"
   ]
  },
  {
   "cell_type": "code",
   "execution_count": null,
   "metadata": {},
   "outputs": [],
   "source": [
    "text = '小米產品'\n",
    "translate(text)"
   ]
  },
  {
   "cell_type": "code",
   "execution_count": null,
   "metadata": {},
   "outputs": [],
   "source": [
    "for i in []:\n",
    "    print('Hello')"
   ]
  },
  {
   "cell_type": "code",
   "execution_count": null,
   "metadata": {},
   "outputs": [],
   "source": [
    "string = b'tab a 2019 (8.0&#39;)'"
   ]
  },
  {
   "cell_type": "code",
   "execution_count": null,
   "metadata": {},
   "outputs": [],
   "source": []
  },
  {
   "cell_type": "code",
   "execution_count": null,
   "metadata": {},
   "outputs": [],
   "source": [
    "df = pd.read_csv('SAMSUNG.csv')"
   ]
  },
  {
   "cell_type": "code",
   "execution_count": null,
   "metadata": {},
   "outputs": [],
   "source": [
    "df.head()"
   ]
  },
  {
   "cell_type": "code",
   "execution_count": null,
   "metadata": {},
   "outputs": [],
   "source": [
    "for index, row in df.iterrows():\n",
    "    print(row.values)\n",
    "    break"
   ]
  },
  {
   "cell_type": "code",
   "execution_count": null,
   "metadata": {},
   "outputs": [],
   "source": [
    "n = [1,2,3,4,5]\n",
    "if 1 == n[0]:\n",
    "    n = n[1:]\n",
    "    n.append(1)\n",
    "n"
   ]
  },
  {
   "cell_type": "code",
   "execution_count": null,
   "metadata": {},
   "outputs": [],
   "source": [
    "print(n)"
   ]
  },
  {
   "cell_type": "code",
   "execution_count": null,
   "metadata": {},
   "outputs": [],
   "source": []
  }
 ],
 "metadata": {
  "kernelspec": {
   "display_name": "Python 3",
   "language": "python",
   "name": "python3"
  },
  "language_info": {
   "codemirror_mode": {
    "name": "ipython",
    "version": 3
   },
   "file_extension": ".py",
   "mimetype": "text/x-python",
   "name": "python",
   "nbconvert_exporter": "python",
   "pygments_lexer": "ipython3",
   "version": "3.9.4"
  }
 },
 "nbformat": 4,
 "nbformat_minor": 4
}
